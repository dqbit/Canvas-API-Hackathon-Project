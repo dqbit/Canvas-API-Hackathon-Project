{
 "cells": [
  {
   "cell_type": "markdown",
   "metadata": {},
   "source": [
    "# Getting Started\n",
    "\n",
    "This first workbook will introduce several new concepts:\n",
    " * Cloning code from github\n",
    " * Jupyter notebooks\n",
    " * Working with syzygy\n",
    " * Accessing the Canvas API\n",
    " "
   ]
  },
  {
   "cell_type": "markdown",
   "metadata": {},
   "source": [
    "## Getting and running this code\n",
    "run this command to clone the git repository:\n",
    "\n",
    "    git clone <repo>\n",
    "\n",
    "There's a setup notebook you will need to run before this one (it's called setup).\n",
    "\n",
    "This notebook expects to find a file called `.canvas_api_key` that contains your API key (and nothing else). You will need to create that (in the same directory as this file) from the command line in jupyter.\n",
    "\n",
    "First, create a Canvas API key through Canvas.\n",
    "\n",
    "Second, save the API key to a file. from the jupyter hub page choose \"New\" and then \"Terminal\" to get an interactive terminal session. Use this command: \n",
    "\n",
    "    echo \"replace this with your Canvas API key\" >> .canvas_api_key\n",
    "    \n"
   ]
  },
  {
   "cell_type": "markdown",
   "metadata": {},
   "source": [
    "## Working with Jupyter notebooks\n",
    "There's a great tutorial made available along with syzygy: https://intro.syzygy.ca\n",
    "\n",
    "If you've never used Jupyter notebooks before, that's a great place to get started.\n",
    "\n",
    "There are many shortcuts to make interacting with a notebook easier, for example you can run just the current cell (rather than re-running the entire notebook) with `shift + enter`"
   ]
  },
  {
   "cell_type": "markdown",
   "metadata": {},
   "source": [
    "## Working with the Canvas API\n",
    "\n",
    "This notebook is used to export data from Canvas. The data we export will be saved in `json` format.\n",
    "\n",
    "It contains examples using the `canvasapi` python package (thanks to UCF!). Most (but not all) API endpoints from Canvas are available in the `canvasapi` package.\n",
    "\n",
    "Useful links about the Canvas API:\n",
    " * https://github.com/ucfopen/canvasapi\n",
    " * https://canvas.instructure.com/doc/api/"
   ]
  },
  {
   "cell_type": "code",
   "execution_count": 3,
   "metadata": {},
   "outputs": [],
   "source": [
    "from canvasapi import Canvas\n",
    "import json"
   ]
  },
  {
   "cell_type": "code",
   "execution_count": 7,
   "metadata": {},
   "outputs": [
    {
     "name": "stdout",
     "output_type": "stream",
     "text": [
      "11224~lo5nQQSHe1Vd5IDyqawUmcJxFfhWaDKz4Hdj5MyCTR4fzjCG523GDSs2dblLeZtC\n"
     ]
    }
   ],
   "source": [
    "#setup some global variables for the script\n",
    "\n",
    "# load API_KEY from a file\n",
    "# we doing this so that we can share this code without sharing our secret keys\n",
    "\n",
    "API_KEY=open(\".canvas_api_key\").readline().rstrip('\\n')\n",
    "\n",
    "API_URL = \"https://canvas.ubc.ca\"\n",
    "canvas = Canvas(API_URL, API_KEY)\n",
    "\n",
    "COURSE_NUM = 30739 # HackUBC course ID \n",
    "print(API_KEY)\n"
   ]
  },
  {
   "cell_type": "code",
   "execution_count": 8,
   "metadata": {},
   "outputs": [
    {
     "name": "stdout",
     "output_type": "stream",
     "text": [
      "{\n",
      "    \"avatar_url\": \"https://canvas.ubc.ca/images/messages/avatar-50.png\",\n",
      "    \"created_at\": \"2017-10-21T01:00:35-07:00\",\n",
      "    \"effective_locale\": \"en-CA\",\n",
      "    \"id\": 91745,\n",
      "    \"locale\": null,\n",
      "    \"name\": \"Zi Rui Ding\",\n",
      "    \"permissions\": {\n",
      "        \"can_update_avatar\": true,\n",
      "        \"can_update_name\": false\n",
      "    },\n",
      "    \"short_name\": \"Zi Rui Ding\",\n",
      "    \"sortable_name\": \"Ding, Zi Rui\"\n",
      "}\n"
     ]
    }
   ],
   "source": [
    "# Here we create the canvas python object, we use that to interact with the Canvas API\n",
    "canvas = Canvas(API_URL, API_KEY)\n",
    "\n",
    "# this should print a json representation of your Canvas user information\n",
    "print(json.dumps(json.loads(canvas.get_user('self').to_json()),sort_keys=True, indent=4))"
   ]
  },
  {
   "cell_type": "markdown",
   "metadata": {},
   "source": [
    "## A note about Canvas discussions\n",
    "the API divides discussion content/posts into three different types:\n",
    "\n",
    "* `discussion topics`: The individual discussion forums\n",
    "* `discussion entries`: The top level entries in the discussion. Each is an original response to the discussion topic.\n",
    "* `discussion replies`: The response to each entry. In Canvas, these are displayed indented and nested under the corresponding discussion entry."
   ]
  },
  {
   "cell_type": "code",
   "execution_count": 9,
   "metadata": {},
   "outputs": [],
   "source": [
    "# get all the discussion topics\n",
    "\n",
    "# many methods of the Canvas API load data lazily (when needed)\n",
    "# to force retreival of all items, we can wrap the request in a list()\n",
    "all_topics = list(canvas.get_course(COURSE_NUM).get_discussion_topics())"
   ]
  },
  {
   "cell_type": "code",
   "execution_count": 10,
   "metadata": {},
   "outputs": [
    {
     "name": "stdout",
     "output_type": "stream",
     "text": [
      "Test Post 1\n",
      "Testing topic 2\n",
      "What is your favourite place on campus? 4\n",
      "What video games are you playing right now? 2\n",
      "Who likes potatoes on pizza? 9\n",
      "Favourite Eating Spots Near Campus? 6\n",
      "What do you choose?  15\n",
      "Learning Analytics Conference at UBC 1\n",
      "Hackathon Feedback 4\n",
      "What do you mean? 3\n",
      "What do you hear?  20\n",
      "What do you see? 23\n",
      "Let's Get Some Discussion Started 19\n",
      "Share your Canvas API ideas/discoveries. 0\n",
      "Hackathon Open Q&A  0\n",
      "Share things you can't do (based on technical limitations) that you wish you could. 0\n",
      "Share any difficulties/ask for help from other teams. 0\n"
     ]
    }
   ],
   "source": [
    "# print all the discussion topic names and their total number of posts\n",
    "for t in all_topics:\n",
    "    print(t.title, t.discussion_subentry_count)\n",
    "    #note, this is the *full* number of posts in the topic\n"
   ]
  },
  {
   "cell_type": "code",
   "execution_count": 11,
   "metadata": {},
   "outputs": [
    {
     "name": "stdout",
     "output_type": "stream",
     "text": [
      "What do you see? 21\n"
     ]
    }
   ],
   "source": [
    "# print all the posts in the largest discussion\n",
    "\n",
    "largest = sorted(all_topics, key=lambda x: x.discussion_subentry_count, reverse=True)[0]\n",
    "\n",
    "print (largest.title, len(list(largest.get_topic_entries())))\n",
    "#note: this is only the *top-level* entries in the discussion, \n",
    "# not all replies to those entries"
   ]
  },
  {
   "cell_type": "code",
   "execution_count": 12,
   "metadata": {},
   "outputs": [
    {
     "name": "stdout",
     "output_type": "stream",
     "text": [
      "total number of top-level entries:  86\n"
     ]
    }
   ],
   "source": [
    "# get all the top-level entries\n",
    "# notice that this is different from the number of posts above\n",
    "all_entries = []\n",
    "for t in all_topics:\n",
    "    topic_entries = list(t.get_topic_entries())\n",
    "    all_entries.extend(topic_entries)\n",
    "print(\"total number of top-level entries: \", len(all_entries))"
   ]
  },
  {
   "cell_type": "code",
   "execution_count": 13,
   "metadata": {},
   "outputs": [
    {
     "name": "stdout",
     "output_type": "stream",
     "text": [
      "total number of replies:  23\n"
     ]
    }
   ],
   "source": [
    "# get all the replies\n",
    "# again, notice that this is different from the number of posts above\n",
    "all_replies = []\n",
    "for e in all_entries:\n",
    "    entry_replies = list(e.get_replies())\n",
    "    all_replies.extend(entry_replies)\n",
    "print(\"total number of replies: \",len(all_replies))\n"
   ]
  },
  {
   "cell_type": "code",
   "execution_count": 36,
   "metadata": {},
   "outputs": [
    {
     "name": "stdout",
     "output_type": "stream",
     "text": [
      "<p>Blue and black</p> (784514) 0\n",
      "<p>Black and Blue</p> (784505) 0\n",
      "<p>A dress</p> (784493) 0\n",
      "<p>Blue and Gold</p> (784481) 0\n",
      "<p>White and gold.</p> (784413) 0\n",
      "<p>white &amp; gold</p> (784397) 0\n",
      "<p>white and gold</p> (784394) 0\n",
      "<p>black and blue</p> (784390) 0\n",
      "<p>Blue and Black!</p> (784389) 0\n",
      "<p>White and gold</p> (784386) 0\n",
      "<p>White and Gold</p> (784385) 0\n",
      "<p>Blue and black</p> (784369) 0\n",
      "Blue and gold (784341) 0\n",
      "<p>I see black and blue</p>\n",
      "<p> </p> (783321) 0\n",
      "<p>blue and black</p> (783314) 0\n",
      "<p>Blue  and black</p> (783269) 0\n",
      "<p>White and gold</p> (783101) 0\n",
      "<p>White and Gold!</p> (782893) 0\n",
      "Blue and black  (774674) 1\n"
     ]
    }
   ],
   "source": [
    "# get the number of replies for a each discussion entry\n",
    "for topic in largest.get_topic_entries():\n",
    "  print(topic, len(list(topic.get_replies())))"
   ]
  },
  {
   "cell_type": "code",
   "execution_count": 14,
   "metadata": {},
   "outputs": [
    {
     "name": "stdout",
     "output_type": "stream",
     "text": [
      "{\n",
      "    \"id\": 259702,\n",
      "    \"title\": \"What do you see?\",\n",
      "    \"last_reply_at\": \"2019-03-30T18:26:56Z\",\n",
      "    \"created_at\": \"2019-03-19T19:57:55Z\",\n",
      "    \"delayed_post_at\": null,\n",
      "    \"posted_at\": \"2019-03-22T17:35:26Z\",\n",
      "    \"assignment_id\": null,\n",
      "    \"root_topic_id\": null,\n",
      "    \"position\": null,\n",
      "    \"podcast_has_student_posts\": false,\n",
      "    \"discussion_type\": \"side_comment\",\n",
      "    \"lock_at\": null,\n",
      "    \"allow_rating\": false,\n",
      "    \"only_graders_can_rate\": false,\n",
      "    \"sort_by_rating\": false,\n",
      "    \"is_section_specific\": false,\n",
      "    \"user_name\": \"Alison Myers\",\n",
      "    \"discussion_subentry_count\": 23,\n",
      "    \"permissions\": {\n",
      "        \"attach\": false,\n",
      "        \"update\": false,\n",
      "        \"reply\": true,\n",
      "        \"delete\": false\n",
      "    },\n",
      "    \"require_initial_post\": null,\n",
      "    \"user_can_see_posts\": true,\n",
      "    \"podcast_url\": null,\n",
      "    \"read_state\": \"read\",\n",
      "    \"unread_count\": 19,\n",
      "    \"subscribed\": false,\n",
      "    \"topic_children\": [],\n",
      "    \"group_topic_children\": [],\n",
      "    \"attachments\": [],\n",
      "    \"published\": true,\n",
      "    \"can_unpublish\": false,\n",
      "    \"locked\": false,\n",
      "    \"can_lock\": true,\n",
      "    \"comments_disabled\": false,\n",
      "    \"author\": {\n",
      "        \"id\": 185698,\n",
      "        \"display_name\": \"Alison Myers\",\n",
      "        \"avatar_image_url\": \"https://canvas.ubc.ca/images/thumbnails/3669192/YXnVaQagy3XGZe4L8gPKNGfx93AqbMQpidngGFKi\",\n",
      "        \"html_url\": \"https://canvas.ubc.ca/courses/30739/users/185698\"\n",
      "    },\n",
      "    \"html_url\": \"https://canvas.ubc.ca/courses/30739/discussion_topics/259702\",\n",
      "    \"url\": \"https://canvas.ubc.ca/courses/30739/discussion_topics/259702\",\n",
      "    \"pinned\": false,\n",
      "    \"group_category_id\": null,\n",
      "    \"can_group\": false,\n",
      "    \"locked_for_user\": false,\n",
      "    \"message\": \"<p><a href=\\\"https://en.wikipedia.org/wiki/The_dress\\\">https://en.wikipedia.org/wiki/The_dress</a></p>\\r\\n<p>\\u00a0</p>\",\n",
      "    \"todo_date\": null,\n",
      "    \"course_id\": 30739\n",
      "}\n"
     ]
    }
   ],
   "source": [
    "# this is an example of how we can 'pretty print' the json representation of an object\n",
    "# in this case, we are printing the details of the largest discussion topic\n",
    "print(json.dumps(json.loads(largest.to_json()),indent=4))"
   ]
  },
  {
   "cell_type": "code",
   "execution_count": 15,
   "metadata": {},
   "outputs": [],
   "source": [
    "# here we are saving all the discussion data to .json files\n",
    "# you can open these files from the jupyter hub to examine their contents\n",
    "# or you can interactively explore the python objects from within this notebook\n",
    "with open('all_topics.json', 'w') as f:\n",
    "    json.dump(list(map(lambda x: json.loads(x.to_json()), all_topics)), f)\n",
    "    #json.dump(all_topics, f)\n",
    "\n",
    "with open('all_entries.json', 'w') as f:\n",
    "    json.dump(list(map(lambda x: json.loads(x.to_json()), all_entries)), f)\n",
    "\n",
    "with open('all_replies.json', 'w') as f:\n",
    "    json.dump(list(map(lambda x: json.loads(x.to_json()), all_replies)), f)\n"
   ]
  },
  {
   "cell_type": "markdown",
   "metadata": {},
   "source": [
    "## What next?\n",
    "\n",
    "Create some additional cells below here (or above!) and try to interact with some of the results from the Canvas API.\n",
    "\n",
    "Some things to try:\n",
    " * Extract just your username from the Canvas `get_user` api\n",
    " * Print all the details of a specific discussion topic, entry, or reply\n",
    " * Find all the topics/entires/replies that you made\n",
    " * Find every reply to a specific user (such as yourself)\n",
    " * Look at the documentation and try using a different API endpoint"
   ]
  },
  {
   "cell_type": "code",
   "execution_count": 16,
   "metadata": {},
   "outputs": [],
   "source": [
    "# how to get user from user id\n",
    "user = canvas.get_user('91745')"
   ]
  },
  {
   "cell_type": "code",
   "execution_count": 17,
   "metadata": {},
   "outputs": [
    {
     "name": "stdout",
     "output_type": "stream",
     "text": [
      "Zi Rui Ding (91745)\n"
     ]
    }
   ],
   "source": [
    "print(user)"
   ]
  },
  {
   "cell_type": "code",
   "execution_count": 24,
   "metadata": {},
   "outputs": [
    {
     "name": "stdout",
     "output_type": "stream",
     "text": [
      "Farshid Agharebparast (185967)\n",
      "Kunal Aildasani (15111)\n",
      "Gagan Bhatia (36937)\n",
      "Kofi Buahin (48413)\n",
      "Cindy Cen (82974)\n",
      "Farbod Chamanian (150707)\n",
      "Lily Chen (15386)\n",
      "Tianzong Chen (2516)\n",
      "Erica Choi (32576)\n",
      "Abigail Climacosa (15854)\n",
      "Erica Commons (118474)\n",
      "Tasha Coote (197947)\n",
      "Brooke Dai (91607)\n",
      "Mary Datan (159303)\n",
      "Zi Rui Ding (91745)\n",
      "William Engle (9814)\n",
      "Homen Feng (103824)\n",
      "Jorge Flores (148295)\n",
      "John Paul Francisco (25465)\n",
      "Arwa Gazzaz (86134)\n",
      "Alexandra Gil (24988)\n",
      "Ao Lin Gong (39130)\n",
      "Michelle Gu (139267)\n",
      "Shubham Gupta (43103)\n",
      "Dhiraj Hariramani (84839)\n",
      "Emily Hon (212301)\n",
      "Gina Hong (25249)\n",
      "Mery Hu Zhao (39951)\n",
      "Julie Huang (15990)\n",
      "Jessica Huh (148670)\n",
      "Nicole Huynh (12473)\n",
      "JungWook Jang (152730)\n",
      "Elham E Khoda (15624)\n",
      "Jiwon Kim (63487)\n",
      "Millenia Kitikul (50754)\n",
      "Peter Ko (108134)\n",
      "Kristo Krugger (139302)\n",
      "Alan Lau (21594)\n",
      "Harrison Lee (4155)\n",
      "Justin Lee (50)\n",
      "Sein Lee (33333)\n",
      "Tony Lee (362123)\n",
      "Winnie LI (34986)\n",
      "Luanna Lin (23995)\n",
      "Andrew Liu (4190)\n",
      "Daniel Liu (117279)\n",
      "Fiana Liu (104016)\n",
      "Jerry Liu (42040)\n",
      "Xinyu Liu (59468)\n",
      "Dingfei Lu (2353)\n",
      "EMMA LU (29689)\n",
      "KEVIN LUZONG (87049)\n",
      "Michelle Ma (114528)\n",
      "Nils Maetzel (18945)\n",
      "Dhruv Mahajan (46719)\n",
      "Tarang Mahapatra (63629)\n",
      "Aliya Mohamed (131741)\n",
      "Firas Moosvi (135)\n",
      "Eduardo Muntaner Garcia (57936)\n",
      "Munkhtur Myagmar (76950)\n",
      "Alison Myers (185698)\n",
      "Aaron Ngu Ngu (30135)\n",
      "Thai Nguyen Dinh (10230)\n",
      "Michael Oliver (17811)\n",
      "David Park (73904)\n",
      "Ju Hee Park (12463)\n",
      "Yi Xuan Qi (128230)\n",
      "YIFENG QIN (141008)\n",
      "Jonathan Quintanar (357098)\n",
      "Mesbah Rafin (251657)\n",
      "Daniel Ryu (34055)\n",
      "Javier Sarria Bastidas (159299)\n",
      "Stoo Sepp (164739)\n",
      "James Shen (133384)\n",
      "Roy Shi (163148)\n",
      "Sanam Shirazi (195701)\n",
      "Hardik Singhi (109239)\n",
      "Yenong Sun (28862)\n",
      "Zhaoying Sun (17596)\n",
      "Surohit Tandon (47904)\n",
      "Matthew Tang (15264)\n",
      "Towela Tembo (17711)\n",
      "Craig Thompson (49358)\n",
      "Craig Thompson (262978)\n",
      "Grayson Tilstra (362297)\n",
      "William Ting (192928)\n",
      "Lauren Tonello (163632)\n",
      "Shenia Tung (25404)\n",
      "Otakar Valek (362132)\n",
      "Patricia Varao Sousa (60563)\n",
      "Miriam Wagner Valladolid (96282)\n",
      "Leqi Wan (1084)\n",
      "Edward Wang (73859)\n",
      "Estella Wang (152322)\n",
      "Shuai Wang (218007)\n",
      "Stella Wang (128053)\n",
      "Zi Wang (14855)\n",
      "Julie Wei (63678)\n",
      "Xindi Wei (12574)\n",
      "Yilin Wei (2373)\n",
      "Benjamin Wu (54001)\n",
      "Heidi Wudrick (41)\n",
      "Steven Xu (21526)\n",
      "Zexu Yan (142618)\n",
      "Gary Yao (215165)\n",
      "Jiaqi Yao (45346)\n",
      "Ray Yeh (2850)\n",
      "Mohamed Yousif (344195)\n",
      "Kevin Yu (143858)\n",
      "Dong-Tao Zhang (31356)\n",
      "Peter Zhang (16535)\n",
      "Will Zhang (14655)\n",
      "Zhipian Zhang (4092)\n",
      "Bruce Zhao (215503)\n"
     ]
    }
   ],
   "source": [
    "# Get the users of a course\n",
    "\n",
    "course = canvas.get_course(30739)\n",
    "for user in course.get_users():\n",
    "    print(user)"
   ]
  },
  {
   "cell_type": "code",
   "execution_count": 22,
   "metadata": {},
   "outputs": [
    {
     "name": "stdout",
     "output_type": "stream",
     "text": [
      "{\n",
      "    \"account_id\": 456,\n",
      "    \"apply_assignment_group_weights\": true,\n",
      "    \"blueprint\": false,\n",
      "    \"calendar\": {\n",
      "        \"ics\": \"https://canvas.ubc.ca/feeds/calendars/course_NBQ26wSgY0SwPphTSRlq4LAIVnA93EgkNA6RXlzW.ics\"\n",
      "    },\n",
      "    \"course_code\": \"Canvas API  + Learning Analytics Hackathon (March 2019)\",\n",
      "    \"created_at\": \"2019-03-19T18:34:38Z\",\n",
      "    \"default_view\": \"modules\",\n",
      "    \"end_at\": null,\n",
      "    \"enrollment_term_id\": 10,\n",
      "    \"enrollments\": [\n",
      "        {\n",
      "            \"enrollment_state\": \"active\",\n",
      "            \"role\": \"StudentEnrollment\",\n",
      "            \"role_id\": 3,\n",
      "            \"type\": \"student\",\n",
      "            \"user_id\": 91745\n",
      "        }\n",
      "    ],\n",
      "    \"grading_standard_id\": null,\n",
      "    \"hide_final_grades\": false,\n",
      "    \"id\": 30739,\n",
      "    \"is_public\": false,\n",
      "    \"is_public_to_auth_users\": true,\n",
      "    \"license\": \"private\",\n",
      "    \"name\": \"Canvas API  + Learning Analytics Hackathon (March 2019)\",\n",
      "    \"public_syllabus\": false,\n",
      "    \"public_syllabus_to_auth\": true,\n",
      "    \"restrict_enrollments_to_course_dates\": true,\n",
      "    \"root_account_id\": 1,\n",
      "    \"start_at\": \"2019-03-22T17:35:18Z\",\n",
      "    \"storage_quota_mb\": 4000,\n",
      "    \"time_zone\": \"America/Los_Angeles\",\n",
      "    \"uuid\": \"NBQ26wSgY0SwPphTSRlq4LAIVnA93EgkNA6RXlzW\",\n",
      "    \"workflow_state\": \"available\"\n",
      "}\n",
      "{\n",
      "    \"access_restricted_by_date\": true,\n",
      "    \"id\": 5473\n",
      "}\n",
      "{\n",
      "    \"access_restricted_by_date\": true,\n",
      "    \"id\": 9388\n",
      "}\n",
      "{\n",
      "    \"access_restricted_by_date\": true,\n",
      "    \"id\": 9391\n",
      "}\n",
      "{\n",
      "    \"account_id\": 267,\n",
      "    \"apply_assignment_group_weights\": false,\n",
      "    \"blueprint\": false,\n",
      "    \"calendar\": {\n",
      "        \"ics\": \"https://canvas.ubc.ca/feeds/calendars/course_h2htxevh7NZagJrWrBW50wBU7RWbaHE8MARnk3Y8.ics\"\n",
      "    },\n",
      "    \"course_code\": \"CPSC 303 201\",\n",
      "    \"created_at\": \"2018-05-24T21:39:41Z\",\n",
      "    \"default_view\": \"assignments\",\n",
      "    \"end_at\": \"2019-04-30T07:00:00Z\",\n",
      "    \"enrollment_term_id\": 10,\n",
      "    \"enrollments\": [\n",
      "        {\n",
      "            \"enrollment_state\": \"active\",\n",
      "            \"role\": \"StudentEnrollment\",\n",
      "            \"role_id\": 3,\n",
      "            \"type\": \"student\",\n",
      "            \"user_id\": 91745\n",
      "        }\n",
      "    ],\n",
      "    \"grading_standard_id\": 420,\n",
      "    \"hide_final_grades\": false,\n",
      "    \"id\": 18952,\n",
      "    \"is_public\": false,\n",
      "    \"is_public_to_auth_users\": false,\n",
      "    \"license\": \"private\",\n",
      "    \"name\": \"CPSC 303 201 Numerical Approximation and Discretization\",\n",
      "    \"public_syllabus\": false,\n",
      "    \"public_syllabus_to_auth\": false,\n",
      "    \"restrict_enrollments_to_course_dates\": false,\n",
      "    \"root_account_id\": 1,\n",
      "    \"start_at\": \"2019-01-02T08:00:00Z\",\n",
      "    \"storage_quota_mb\": 4000,\n",
      "    \"time_zone\": \"America/Los_Angeles\",\n",
      "    \"uuid\": \"h2htxevh7NZagJrWrBW50wBU7RWbaHE8MARnk3Y8\",\n",
      "    \"workflow_state\": \"available\"\n",
      "}\n",
      "{\n",
      "    \"access_restricted_by_date\": true,\n",
      "    \"id\": 9395\n",
      "}\n",
      "{\n",
      "    \"account_id\": 267,\n",
      "    \"apply_assignment_group_weights\": false,\n",
      "    \"blueprint\": false,\n",
      "    \"calendar\": {\n",
      "        \"ics\": \"https://canvas.ubc.ca/feeds/calendars/course_gOqW8n4wLdDpbXboB9HbRMN4oqpWQBaKNkuSTElL.ics\"\n",
      "    },\n",
      "    \"course_code\": \"CPSC 320 201/202\",\n",
      "    \"created_at\": \"2018-05-24T21:39:58Z\",\n",
      "    \"default_view\": \"modules\",\n",
      "    \"end_at\": null,\n",
      "    \"enrollment_term_id\": 10,\n",
      "    \"enrollments\": [\n",
      "        {\n",
      "            \"enrollment_state\": \"active\",\n",
      "            \"role\": \"StudentEnrollment\",\n",
      "            \"role_id\": 3,\n",
      "            \"type\": \"student\",\n",
      "            \"user_id\": 91745\n",
      "        }\n",
      "    ],\n",
      "    \"grading_standard_id\": null,\n",
      "    \"hide_final_grades\": false,\n",
      "    \"id\": 18960,\n",
      "    \"is_public\": false,\n",
      "    \"is_public_to_auth_users\": false,\n",
      "    \"license\": \"private\",\n",
      "    \"name\": \"CPSC 320 201/202 Intermediate Algorithm Design and Analysis\",\n",
      "    \"public_syllabus\": false,\n",
      "    \"public_syllabus_to_auth\": false,\n",
      "    \"restrict_enrollments_to_course_dates\": false,\n",
      "    \"root_account_id\": 1,\n",
      "    \"start_at\": \"2019-01-01T22:09:14Z\",\n",
      "    \"storage_quota_mb\": 4000,\n",
      "    \"time_zone\": \"America/Los_Angeles\",\n",
      "    \"uuid\": \"gOqW8n4wLdDpbXboB9HbRMN4oqpWQBaKNkuSTElL\",\n",
      "    \"workflow_state\": \"available\"\n",
      "}\n",
      "{\n",
      "    \"account_id\": 267,\n",
      "    \"apply_assignment_group_weights\": false,\n",
      "    \"blueprint\": false,\n",
      "    \"calendar\": {\n",
      "        \"ics\": \"https://canvas.ubc.ca/feeds/calendars/course_qZ7xyiOa817fIdVT52Xu5teYBfxa4IqxLS0DT1lF.ics\"\n",
      "    },\n",
      "    \"course_code\": \"CPSC 340 201\",\n",
      "    \"created_at\": \"2018-05-24T21:40:05Z\",\n",
      "    \"default_view\": \"assignments\",\n",
      "    \"end_at\": null,\n",
      "    \"enrollment_term_id\": 10,\n",
      "    \"enrollments\": [\n",
      "        {\n",
      "            \"enrollment_state\": \"active\",\n",
      "            \"role\": \"StudentEnrollment\",\n",
      "            \"role_id\": 3,\n",
      "            \"type\": \"student\",\n",
      "            \"user_id\": 91745\n",
      "        }\n",
      "    ],\n",
      "    \"grading_standard_id\": null,\n",
      "    \"hide_final_grades\": false,\n",
      "    \"id\": 18963,\n",
      "    \"is_public\": null,\n",
      "    \"is_public_to_auth_users\": false,\n",
      "    \"license\": null,\n",
      "    \"name\": \"CPSC 340 201 Machine Learning and Data Mining\",\n",
      "    \"public_syllabus\": false,\n",
      "    \"public_syllabus_to_auth\": false,\n",
      "    \"restrict_enrollments_to_course_dates\": false,\n",
      "    \"root_account_id\": 1,\n",
      "    \"start_at\": \"2019-01-09T22:14:50Z\",\n",
      "    \"storage_quota_mb\": 4000,\n",
      "    \"time_zone\": \"America/Los_Angeles\",\n",
      "    \"uuid\": \"qZ7xyiOa817fIdVT52Xu5teYBfxa4IqxLS0DT1lF\",\n",
      "    \"workflow_state\": \"available\"\n",
      "}\n",
      "{\n",
      "    \"access_restricted_by_date\": true,\n",
      "    \"id\": 7586\n",
      "}\n"
     ]
    }
   ],
   "source": [
    "# Get the courses of oneself as a user\n",
    "user = canvas.get_user('self')\n",
    "courses = user.get_courses()\n",
    "\n",
    "# print all the course attributes\n",
    "for course in courses:\n",
    "    print(json.dumps(json.loads(eachc.to_json()),sort_keys=True, indent=4))"
   ]
  },
  {
   "cell_type": "code",
   "execution_count": 25,
   "metadata": {},
   "outputs": [
    {
     "name": "stdout",
     "output_type": "stream",
     "text": [
      "Canvas API  + Learning Analytics Hackathon (March 2019)\n",
      "CPSC 303 201 Numerical Approximation and Discretization\n",
      "CPSC 320 201/202 Intermediate Algorithm Design and Analysis\n",
      "CPSC 340 201 Machine Learning and Data Mining\n",
      "['Canvas API  + Learning Analytics Hackathon (March 2019)', 'CPSC 303 201 Numerical Approximation and Discretization', 'CPSC 320 201/202 Intermediate Algorithm Design and Analysis', 'CPSC 340 201 Machine Learning and Data Mining']\n"
     ]
    }
   ],
   "source": [
    "# Cleaning: getting only the name of the course from the json file\n",
    "\n",
    "course_names = []\n",
    "\n",
    "for c in courses:\n",
    "    # first we want to skip the courses that have expired, i.e. contains 'access_restricted_by_date'\n",
    "    if('access_restricted_by_date' in c.to_json()):\n",
    "        continue\n",
    "    # then we select the name field and add to course_names\n",
    "    else:\n",
    "        print(c.name)\n",
    "        course_names.append(c.name)\n",
    "    \n",
    "print(course_names)"
   ]
  },
  {
   "cell_type": "code",
   "execution_count": 142,
   "metadata": {},
   "outputs": [
    {
     "name": "stdout",
     "output_type": "stream",
     "text": [
      "117\n",
      "['Farshid Agharebparast', 'Kunal Aildasani', 'Gagan Bhatia', 'Kofi Buahin', 'Cindy Cen', 'Farbod Chamanian', 'Lily Chen', 'Tianzong Chen', 'Erica Choi', 'Abigail Climacosa', 'Erica Commons', 'Tasha Coote', 'Brooke Dai', 'Mary Datan', 'Zi Rui Ding', 'William Engle', 'Homen Feng', 'Jorge Flores', 'John Paul Francisco', 'Arwa Gazzaz', 'Alexandra Gil', 'Ao Lin Gong', 'Michelle Gu', 'Nakul Gupta', 'Shubham Gupta', 'Dhiraj Hariramani', 'Emily Hon', 'Gina Hong', 'Mery Hu Zhao', 'Julie Huang', 'Jessica Huh', 'Nicole Huynh', 'JungWook Jang', 'Elham E Khoda', 'Jiwon Kim', 'Millenia Kitikul', 'Peter Ko', 'Kristo Krugger', 'Alan Lau', 'Harrison Lee', 'Justin Lee', 'Sein Lee', 'Tony Lee', 'Winnie LI', 'Luanna Lin', 'Andrew Liu', 'Daniel Liu', 'Fiana Liu', 'Jerry Liu', 'Xinyu Liu', 'Dingfei Lu', 'EMMA LU', 'KEVIN LUZONG', 'Michelle Ma', 'Nils Maetzel', 'Dhruv Mahajan', 'Tarang Mahapatra', 'Aliya Mohamed', 'Firas Moosvi', 'Eduardo Muntaner Garcia', 'Munkhtur Myagmar', 'Alison Myers', 'Shivani Mysuria', 'Aaron Ngu Ngu', 'Thai Nguyen Dinh', 'Michael Oliver', 'David Park', 'Ju Hee Park', 'Yi Xuan Qi', 'YIFENG QIN', 'Jonathan Quintanar', 'Mesbah Rafin', 'Daniel Ryu', 'Javier Sarria Bastidas', 'Stoo Sepp', 'James Shen', 'Roy Shi', 'Sanam Shirazi', 'Hardik Singhi', 'Yenong Sun', 'Zhaoying Sun', 'Surohit Tandon', 'Matthew Tang', 'Towela Tembo', 'Craig Thompson', 'Craig Thompson', 'Grayson Tilstra', 'William Ting', 'Lauren Tonello', 'Shenia Tung', 'Otakar Valek', 'Patricia Varao Sousa', 'Karan Vasdev', 'Miriam Wagner Valladolid', 'Leqi Wan', 'Edward Wang', 'Estella Wang', 'Shuai Wang', 'Stella Wang', 'Zi Wang', 'Julie Wei', 'Xindi Wei', 'Yilin Wei', 'Benjamin Wu', 'Heidi Wudrick', 'Steven Xu', 'Zexu Yan', 'Gary Yao', 'Jiaqi Yao', 'Ray Yeh', 'Mohamed Yousif', 'Kevin Yu', 'Dong-Tao Zhang', 'Peter Zhang', 'Will Zhang', 'Zhipian Zhang', 'Bruce Zhao']\n"
     ]
    }
   ],
   "source": [
    "# more playing around\n",
    "# get a single course, get the list of users in the course, extract names of users\n",
    "c = canvas.get_course(30739)\n",
    "\n",
    "users = list(c.get_users())\n",
    "\n",
    "user_names = []\n",
    "for user in users:\n",
    "    user_names.append(user.short_name)\n",
    "\n",
    "print(len(user_names))\n",
    "\n",
    "print(user_names)\n"
   ]
  },
  {
   "cell_type": "code",
   "execution_count": 29,
   "metadata": {},
   "outputs": [
    {
     "name": "stdout",
     "output_type": "stream",
     "text": [
      "723\n",
      "['Farshid Agharebparast', 'Kunal Aildasani', 'Gagan Bhatia', 'Kofi Buahin', 'Cindy Cen', 'Farbod Chamanian', 'Lily Chen', 'Tianzong Chen', 'Erica Choi', 'Abigail Climacosa', 'Erica Commons', 'Tasha Coote', 'Brooke Dai', 'Mary Datan', 'Zi Rui Ding', 'William Engle', 'Homen Feng', 'Jorge Flores', 'John Paul Francisco', 'Arwa Gazzaz', 'Alexandra Gil', 'Ao Lin Gong', 'Michelle Gu', 'Shubham Gupta', 'Dhiraj Hariramani', 'Emily Hon', 'Gina Hong', 'Mery Hu Zhao', 'Julie Huang', 'Jessica Huh', 'Nicole Huynh', 'JungWook Jang', 'Elham E Khoda', 'Jiwon Kim', 'Millenia Kitikul', 'Peter Ko', 'Kristo Krugger', 'Alan Lau', 'Harrison Lee', 'Justin Lee', 'Sein Lee', 'Tony Lee', 'Winnie LI', 'Luanna Lin', 'Andrew Liu', 'Daniel Liu', 'Fiana Liu', 'Jerry Liu', 'Xinyu Liu', 'Dingfei Lu', 'EMMA LU', 'KEVIN LUZONG', 'Michelle Ma', 'Nils Maetzel', 'Dhruv Mahajan', 'Tarang Mahapatra', 'Aliya Mohamed', 'Firas Moosvi', 'Eduardo Muntaner Garcia', 'Munkhtur Myagmar', 'Alison Myers', 'Aaron Ngu Ngu', 'Thai Nguyen Dinh', 'Michael Oliver', 'David Park', 'Ju Hee Park', 'Yi Xuan Qi', 'YIFENG QIN', 'Jonathan Quintanar', 'Mesbah Rafin', 'Daniel Ryu', 'Javier Sarria Bastidas', 'Stoo Sepp', 'James Shen', 'Roy Shi', 'Sanam Shirazi', 'Hardik Singhi', 'Yenong Sun', 'Zhaoying Sun', 'Surohit Tandon', 'Matthew Tang', 'Towela Tembo', 'Craig Thompson', 'Craig Thompson', 'Grayson Tilstra', 'William Ting', 'Lauren Tonello', 'Shenia Tung', 'Otakar Valek', 'Patricia Varao Sousa', 'Miriam Wagner Valladolid', 'Leqi Wan', 'Edward Wang', 'Estella Wang', 'Shuai Wang', 'Stella Wang', 'Zi Wang', 'Julie Wei', 'Xindi Wei', 'Yilin Wei', 'Benjamin Wu', 'Heidi Wudrick', 'Steven Xu', 'Zexu Yan', 'Gary Yao', 'Jiaqi Yao', 'Ray Yeh', 'Mohamed Yousif', 'Kevin Yu', 'Dong-Tao Zhang', 'Peter Zhang', 'Will Zhang', 'Zhipian Zhang', 'Bruce Zhao', 'Prateek Agarwal', 'Alexandria Ahluwalia', 'Seiyoung Ahn', 'Orkhan Asgarov', 'Jingwen Bai', 'Ashley Barkworth', 'Runtong Cai', 'Shuanglin Cao', 'Jonathan Chan', 'Eric Chang', 'Rhys Chappell', 'Jason Chau', 'Muyi Chen', 'Wei Chen', 'Xiaoyu Chen', 'Alex Cotic-Ehn', 'Ricky Curry', 'Zhaolin Deng', 'Simarbir Singh Dhaliwal', 'Zi Rui Ding', 'Jason Doo', 'Long Yan Emily Fan', 'Shiqi Fan', 'Farid Faraji', 'Fan Feng', 'Jiang Feng', 'Peter Feng', 'Michael Gelbart', 'Alireza Ghaseminejad', 'Jasmin Goh', 'Sicong He', 'Elijah Ho', 'Matthew Ho', 'Sahand Hosseini', 'Michael Hou', 'Nicholas Hu', 'Irene Huynh', 'Han Jiang', 'Zhe Jiang', 'Asana Khajavi', 'Dhira Khewsubtrakool', 'Essence Lai', 'Winston Lam', 'Nicholas Larsen', 'Christian Laurence', 'Morgan Law', 'Matthieu Lepur', 'Cloris Li', 'Daniel Li', 'Philip Li', 'Tim Li', 'Xiaojie Li', 'Rowan Lindsay', 'Colen Liu', 'Shadong Liu', 'Winston Liu', 'Eric Lusk-Jopson', 'Josh MacEachern', 'Sam McConnell', 'Amelia Milne', 'Jake Moh', 'Kellin Murphy', 'Sarah Ng', 'Harsh Patel', 'Justin Reiher', 'Frederic Renken', 'Sarah Reny', 'John Seto', 'Sheetal Shajan', 'Haonan Shi', 'Hardik Singhi', 'Spark Sun', 'Harry Tao', 'Meny Ting', 'Khanh Linh Tran', 'Shiying Tu', 'Gabriel Uribe', 'Hao Wang', 'Ren Wang', 'Stella Wang', 'Tiger Wang', 'Wendy Wang', 'James Ward', 'Yijia Wen', 'Isaiah Wijaya', 'Quincy Wong', 'Lily Xia', 'Lincoln Xiao', 'Yiwen Xu', 'Rongzheng Yan', 'Mengjunhong Yao', 'Pearson Yao', 'Anthony Yeung', 'Hafsa Zahid', 'Yuanjie Zhao', 'Logan Zheng', 'Tiantai Zhou', 'Yufei Zhou', 'Kevin Zhu', 'Yisheng Zhu', 'Marvin Agonos', 'Naeema Al-Mridha', 'Samuel Allan', 'Tiara Allidina', 'Rithvik Alluri', 'Claire Anderson', 'Regina Arcilla', 'Seb Ban', 'Prithu Banerjee', 'Sahil Bansal', 'Ashley Barkworth', 'Breyanne Bautista', 'Coulter Beeson', 'Shannon Benson', 'Jessica Bo', 'Cristian Brazales Molina', 'Claude Bu', 'Matthew Cam', 'Yichen Cao', 'Sebastiano Carlucci', 'Amelia Casciola', 'Robyn Castro', 'Alex Champagne', 'Raphael Chang Menoni', 'Jeffrey Chang', 'Benson Chen', 'Janet Chen', 'Rex Chen', 'Susan Chen', 'Terence Chen', 'Victor Chen', 'Zikun Chen', 'Jordan Cheng', 'Pengyu Cheng', 'Timothy Cheng', 'Adle Chiam Chiam', 'Justin Chiasson', 'Arnold Choa', 'Joochan Choi', 'Lydia Choi', 'William Choi', 'Chantal Chung', 'Janie Chung', 'Mary Chung', 'SETAREH COHAN', 'Adam Collins', 'Anne Condon', 'Dama Correch', 'Alex Cotic-Ehn', 'Bronwyn Damm', 'Kelly Dang', 'Rachit Dangayach', 'Mark Davidson', 'Yue Deng', 'Anas Desouky', 'Sheng Di', 'Zi Rui Ding', 'William Dougall', 'Artun Duman', 'Eric Duong', 'Karim Eldegwy', 'Bebo Elhosary', 'Dan Estrin', 'Long Yan Emily Fan', 'Vera Fan', 'Daniel Fang', 'Farid Faraji', 'Homen Feng', 'Noah Finkielsztein', 'Emily Fong', 'Zoe Fox', 'Joao Freitas', 'Darren Fu', 'Mikayla Gairns', 'Shinya Gao', 'Ya Gao', 'Hannah Generoso', 'Katherine Germano De Aquino Lima', 'Harpaul Gill', 'Sam Goldwax', 'Emily Gong', 'Shreeshaa Goyal', 'Anders Grasdal', 'Mario Grebelski', 'Shri Grover', 'William Gu', 'Nishat Gupta', 'Ali Haghani', 'Huili Han', 'Akshay Handa', 'Quinn Hanson', 'Steven Harlos', 'Amelia He', 'Yizhuo He', 'Dillon Higa', 'Kevin Ho', 'Brian Hong', 'Gina Hong', 'Sakib Hossain', 'Jacob Hotz', 'Chongqing Hou', 'Kipp Hsieh', 'Chenming Hu', 'Grace Hu', 'Sylvia Hu', 'David Huang', 'Hao Huang', 'Jacqueline Huang', 'KuanMin Huang', 'Cameron Huynh', 'Derin Ibikunle', 'Akshat Jain', 'Yaash Jain', 'Anthony Jakob', 'Nishad Jamaldeen', 'Jamie Jeon', 'Emily Jia', 'Ruonan Jia', 'Yuncheng Jia', 'Kyle Jiang', 'Ziyang Jin', 'Dianna Kan', 'Harminder Kandola', 'Braedyn Kenzie', 'Saif Khan', 'Aman Khinda', 'Andy Kim', 'Jun Kim', 'Jillian Kong', 'Kristo Krugger', 'Eugenie Lai', 'Yongxin Lai', 'Jian Lan', 'Melody Lan', 'Christian Laurence', 'Eishan Lawrence', 'Etienne Le Bouder', 'Charmaine Lee', 'Daniel Lee', 'Justin Lee', 'Kevin Lee', 'Peter Lee', 'Seungyup Lee', 'Anthony Li', 'David Li', 'Jiayi Li', 'Mingyang Li', 'Ricky Li', 'Songyang Li', 'Tim Li', 'Tony Li', 'Wuyang Li', 'Yvonne Li', 'Zhe Li', 'David Liang', 'Cindy Lim', 'William Lim', 'Hannah Lin', 'Stanford Lin', 'Rowan Lindsay', 'Andrew Liu', 'Daniel Liu', 'David Liu', 'Eric Liu', 'Ever Liu', 'Jierui Liu', 'Jordan Liu', 'Michael Liu', 'Monica Liu', 'Vandy Liu', 'Bryan Lo', 'Weixi Long', 'Dylan Lu', 'Jie Lu', 'Kaiming LU', 'Eric Ma', 'Marco Ma', 'Jennifer MacFarlane', 'Andrea Magbanua', 'Tarang Mahapatra', 'Aya Makhambetova', 'Yi Ang Mao', 'Tim Matsumoto', 'Giulia Mattia', 'Natasha Mattson', 'Sahil Mazmudar', 'Morgan Mo', 'Ali Mohamed', 'Cormac Mollitor', 'Haseenah Molumo', 'Tyler Moore', 'Conor Morrison', 'Nikki Motevaselolhagh', 'Manlam Mou', 'Daryn Mulholland', 'GURVEER KAUR NA', 'Hanae Nakajima', 'Emma Nakamoto', 'Chris Ng', 'Philip Ng', 'Natalie Ngan', 'Kevin Nguyen', 'Charlene Nicer', 'Edmund Oh', 'Ryan Oh', 'Samuel Or', 'Ryan Pattyson', 'Jose Carlos Pazos', 'Emre Pekel', 'Egor Peshkov', 'Umut Polat', 'Alex Ponomarov', 'Caelin Preston', 'Rodrigo Proen¿a', 'Amy Promhouse', 'Koby Qu', 'Karn Rahal', 'Ramon Rakow', 'Josh Rayo', 'Sarah Reny', 'Michael Ruby', 'Laura Ruiz', 'Erik Ryhorchuk', 'Fawaz Saleem', 'Omar Salem', 'Kiavash Samadi', 'Arjan Sandhu', 'Leann Santa Cruz', 'Asia Schmok', 'John Seto', 'Corwin Shanner', 'Mitchel Sharko', 'Angus Shaw', 'Betty Shea', 'Jacky Sio', 'Anastasiya Sokha', 'Christopher Song', 'Gautam Soni', 'Simeon Stakic', 'Tyler Steele', 'Jie Su', 'YUAN SUN', 'Lirukshman Sundaralingam', 'Serge Sych', 'Aiden Synkova', 'FIGALI TAHO', 'Shushama Tahsin', 'Derek Tam', 'Jobina Tamminga', 'Adrien Tang', 'Andrea Tang', 'Kyo Tang', 'Tiffany Tang', 'Kshitiz Tanwar', 'Justin Tao', 'Gorn Teptada', 'David Thomas', 'Angela Tian', 'Geoffrey Tien', 'Jos¿ Torres Ju¿rez', 'Brian Trieu', 'Oscar Tu', 'Shiv Vashisht', 'Leqi Wan', 'Francis Wang', 'Jason Wang', 'Jia Bin Wang', 'John Wang', 'Ren Wang', 'Rui Wang', 'Sari Wang', 'Stella Wang', 'WAN SHING MARTIN WANG', 'Wumian Wang', 'Yuyang Wei', 'Yijia Wen', 'Ella Wilson', 'Ryan Wirth', 'Alvin Wong', 'Michelle Wong', 'Raymond Wong', 'Stephanie Wong', 'Trevin Wong', 'Andy Worth', 'Ashley-Gail Wright', 'TJ Wu', 'Victor Wu', 'Yiyun Xi', 'Robin Xie', 'Kevin Xu', 'Yuan Xu', 'Sheena Yadav', 'Rongzheng Yan', 'Sam Yan', 'Minghao Yang', 'Xiaoan Yang', 'Xinyue Yang', 'Amy Yao', 'Harry Yao', 'Kevin Yap', 'Violet Ye', 'Albert Yip', 'James Yoo', 'Ruixuan Yu', 'Henry Zeng', 'Alice Zhang', 'Cindy Zhang', 'David Zhang', 'Fred Zhang', 'Grace Zhang', 'James Zhang', 'John Zhang', 'Shuaiqi Zhang', 'Bruce Zhao', 'Darming Zhao', 'MengXin Zhao', 'Cherry Zheng', 'Jacky Zheng', 'Lydia Zheng', 'Zikang Zheng', 'Julia Zhu', 'Scoward Zhu', 'Steven Zhu', 'Tianyan Zhu', 'Youcheng Zhu', 'Kevin Zou', 'Xiaoyu Zou', 'Andrew Zulaybar', 'FARZAD ABDOLHOSSEINI', 'Seiyoung Ahn', 'MARJAN ALBOOYEH', 'Samuel Allan', 'Jose Arevalo', 'Bruno Bachmann', 'Maria del Mar Bazua Lobato', 'William Beltran', 'Alexander Bergholm', 'Fengyi Bian', 'Jessica Bo', 'Neema Boutorabi', 'Sebastiano Carlucci', 'Joanne Chan', 'Achintya Chandwani', 'Pritpal Chauhan', 'Malcolm Chen', 'Victor Chen', 'Zikun Chen', 'Shevonne Cheung', 'Jim Chiang', 'Jordan Chiu', 'Jae Sam Choi', 'Harlan Colclough', 'Cowan Cumming', 'Taylor Curran', 'Ben Daly-Grafstein', 'FARHAD DASHTI ARDAKANI', 'Jeffrey Dawson', 'Zhaolin Deng', 'Jack Ding', 'Zi Rui Ding', 'Jeffrey Doyle', 'Chi Duong', 'Eric Duong', 'Asma Enayet', 'Michael Englo', 'Logan Ennis', 'Daniel Fang', 'Ryan Fayyazi', 'Zoe Fox', 'Ming Gao', 'Andrew Gourley', 'Kiara Grant', 'Shuhan Guo', 'Siddhartha Gupta', 'Gregory Gzik', 'Cailean Harris', 'Frederic Alexandre Hayek', 'Lizzie Hnatiuk', 'Nathan Holmes', 'Jieming Hou', 'Jingyuan Hu', 'Hao Huang', 'Adam Hynek', 'Peter Hyun', 'Esther Inlayo', 'Susmit Japhalekar', 'Jagjot Jhajj', 'Sammie Jiang', 'Alex Jordache', 'Tanha Kabir', 'Raj Kambo', 'Harminder Kandola', 'Braedyn Kenzie', 'Fili Kilibarda', 'Andy Kim', 'David Kim', 'David Kim Kim', 'Nam Hee Kim', 'Ryan Knauer', 'Tony Kong', 'Ranky Lau', 'JONATHAN LAVINGTON', 'Ryan Lazib', 'Etienne Le Bouder', 'John Lee', 'Michelle Lee', 'Soojin Lee', 'Daniel Levy', 'Ada Li', 'Tim Li', 'Wuyang Li', 'Andy Lin', 'Andy Lin', 'Hannah Lin', 'Leo Lin', 'Andy Liu', 'Ellen Liu', 'Jason Liu', 'Stephanie Liu', 'Alan Long', 'Jie Lu', 'Victor Lu', 'Max Ma', 'Mathew MacDougall', 'Tarang Mahapatra', 'Si Yi Meng', 'Tommi Muller', 'Renaldo Murillo', 'Thai Nguyen Dinh', 'Gokberk Ozsoy', 'Pahul Panesar', 'Chrysen Park', 'Minie Park', 'Leif Pedersen', 'Mark Pedersen', 'Hossein Piri', 'Hossein RAHIMI', 'Pouya Rezaeinia', 'Subihi Rixat', 'Tanay Rohatgi', 'Ishan Sahay', 'Sina Saleh', 'ERIC SANDERS', 'Arjan Sandhu', 'Ash Sandhu', 'AMBIKEYA SANGWAN', 'Lise Savard', 'Luke Schwalfenberg', 'John Seto', 'Angus Shaw', 'Shahriar Shayesteh', 'Zhangyi Shentu', 'Joe Simmons', 'Megha Singhania', 'Seiji Smith', 'Olga Solodova', 'Jonathan Steif', 'Nanda Syahrasyad', 'Kevin Tabouguia', 'Adrien Tang', 'Anthony Tat', 'Evangeline Tay', 'Sukhvir Toor', 'Amir Tootooni Mofrad', 'Jos¿ Torres Ju¿rez', 'Oscar Tu', 'Onur Tuna', 'Sara Uppal', 'Johnson Vu', 'Ben Walker', 'Abel Waller', 'Bingyao Wang', 'Francis Wang', 'Jingrui Wang', 'Kayci Wang', 'Ren Wang', 'Scott Wang', 'Yanzhao Wang', 'Yubo Wang', 'Zitong Wang', 'Ryan Wirth', 'Alvin Wong', 'Frank Wood', 'Jessica Wu', 'Michael Xian', 'Hanbo Yang', 'Jessica Yang', 'Matin Yarmand', 'James Yoo', 'Jason Yoo', 'Hafsa Zahid', 'Xueqi Zeng', 'Amber Zhang', 'Chao Zhang', 'David Zhang', 'Grace Zhang', 'Haowei Zhang', 'Helen Zhang', 'Juexiao Zhang', 'Michael Zhang', 'Rui Zhang', 'Tianyue Zhang', 'Wenhong Zhang', 'Yihao Zhang', 'Lisa Zhao', 'Karen Zhou', 'Wenxin Zhou', 'Zhong Zhuang', 'Anton Zubchenko']\n"
     ]
    }
   ],
   "source": [
    "# general function: get all courses one has and all users in these courses, \n",
    "# and append all user names into a single list\n",
    "\n",
    "user_names = []\n",
    "\n",
    "\n",
    "for c in courses:\n",
    "    if('access_restricted_by_date' in c.to_json()):\n",
    "        continue\n",
    "    else:\n",
    "        users = list(c.get_users())\n",
    "\n",
    "        for user in users:\n",
    "            user_names.append(user.short_name)\n",
    "    \n",
    "print(len(user_names))\n",
    "\n",
    "print(user_names)\n",
    "    "
   ]
  },
  {
   "cell_type": "code",
   "execution_count": 32,
   "metadata": {},
   "outputs": [
    {
     "name": "stdout",
     "output_type": "stream",
     "text": [
      "[('Tarang Mahapatra', 3), ('Stella Wang', 3), ('Tim Li', 3), ('John Seto', 3), ('Ren Wang', 3), ('Homen Feng', 2), ('Gina Hong', 2), ('Kristo Krugger', 2), ('Justin Lee', 2)]\n",
      "[('Zi Rui Ding', 4), ('Tarang Mahapatra', 3), ('Stella Wang', 3), ('Tim Li', 3), ('John Seto', 3), ('Ren Wang', 3), ('Homen Feng', 2), ('Gina Hong', 2), ('Kristo Krugger', 2), ('Justin Lee', 2), ('Andrew Liu', 2), ('Daniel Liu', 2), ('Thai Nguyen Dinh', 2), ('Hardik Singhi', 2), ('Craig Thompson', 2), ('Leqi Wan', 2), ('Bruce Zhao', 2), ('Seiyoung Ahn', 2), ('Ashley Barkworth', 2), ('Alex Cotic-Ehn', 2), ('Zhaolin Deng', 2), ('Long Yan Emily Fan', 2), ('Farid Faraji', 2), ('Christian Laurence', 2), ('Rowan Lindsay', 2), ('Sarah Reny', 2), ('Yijia Wen', 2), ('Rongzheng Yan', 2), ('Hafsa Zahid', 2), ('Samuel Allan', 2), ('Jessica Bo', 2), ('Sebastiano Carlucci', 2), ('Victor Chen', 2), ('Zikun Chen', 2), ('Eric Duong', 2), ('Daniel Fang', 2), ('Zoe Fox', 2), ('Hao Huang', 2), ('Harminder Kandola', 2), ('Braedyn Kenzie', 2), ('Andy Kim', 2), ('Etienne Le Bouder', 2), ('Wuyang Li', 2), ('Hannah Lin', 2), ('Jie Lu', 2), ('Arjan Sandhu', 2), ('Angus Shaw', 2), ('Adrien Tang', 2), ('Jos¿ Torres Ju¿rez', 2), ('Oscar Tu', 2), ('Francis Wang', 2), ('Ryan Wirth', 2), ('Alvin Wong', 2), ('James Yoo', 2), ('David Zhang', 2), ('Grace Zhang', 2), ('Andy Lin', 2), ('Farshid Agharebparast', 1), ('Kunal Aildasani', 1), ('Gagan Bhatia', 1), ('Kofi Buahin', 1), ('Cindy Cen', 1), ('Farbod Chamanian', 1), ('Lily Chen', 1), ('Tianzong Chen', 1), ('Erica Choi', 1), ('Abigail Climacosa', 1), ('Erica Commons', 1), ('Tasha Coote', 1), ('Brooke Dai', 1), ('Mary Datan', 1), ('William Engle', 1), ('Jorge Flores', 1), ('John Paul Francisco', 1), ('Arwa Gazzaz', 1), ('Alexandra Gil', 1), ('Ao Lin Gong', 1), ('Michelle Gu', 1), ('Shubham Gupta', 1), ('Dhiraj Hariramani', 1), ('Emily Hon', 1), ('Mery Hu Zhao', 1), ('Julie Huang', 1), ('Jessica Huh', 1), ('Nicole Huynh', 1), ('JungWook Jang', 1), ('Elham E Khoda', 1), ('Jiwon Kim', 1), ('Millenia Kitikul', 1), ('Peter Ko', 1), ('Alan Lau', 1), ('Harrison Lee', 1), ('Sein Lee', 1), ('Tony Lee', 1), ('Winnie LI', 1), ('Luanna Lin', 1), ('Fiana Liu', 1), ('Jerry Liu', 1), ('Xinyu Liu', 1), ('Dingfei Lu', 1), ('EMMA LU', 1), ('KEVIN LUZONG', 1), ('Michelle Ma', 1), ('Nils Maetzel', 1), ('Dhruv Mahajan', 1), ('Aliya Mohamed', 1), ('Firas Moosvi', 1), ('Eduardo Muntaner Garcia', 1), ('Munkhtur Myagmar', 1), ('Alison Myers', 1), ('Aaron Ngu Ngu', 1), ('Michael Oliver', 1), ('David Park', 1), ('Ju Hee Park', 1), ('Yi Xuan Qi', 1), ('YIFENG QIN', 1), ('Jonathan Quintanar', 1), ('Mesbah Rafin', 1), ('Daniel Ryu', 1), ('Javier Sarria Bastidas', 1), ('Stoo Sepp', 1), ('James Shen', 1), ('Roy Shi', 1), ('Sanam Shirazi', 1), ('Yenong Sun', 1), ('Zhaoying Sun', 1), ('Surohit Tandon', 1), ('Matthew Tang', 1), ('Towela Tembo', 1), ('Grayson Tilstra', 1), ('William Ting', 1), ('Lauren Tonello', 1), ('Shenia Tung', 1), ('Otakar Valek', 1), ('Patricia Varao Sousa', 1), ('Miriam Wagner Valladolid', 1), ('Edward Wang', 1), ('Estella Wang', 1), ('Shuai Wang', 1), ('Zi Wang', 1), ('Julie Wei', 1), ('Xindi Wei', 1), ('Yilin Wei', 1), ('Benjamin Wu', 1), ('Heidi Wudrick', 1), ('Steven Xu', 1), ('Zexu Yan', 1), ('Gary Yao', 1), ('Jiaqi Yao', 1), ('Ray Yeh', 1), ('Mohamed Yousif', 1), ('Kevin Yu', 1), ('Dong-Tao Zhang', 1), ('Peter Zhang', 1), ('Will Zhang', 1), ('Zhipian Zhang', 1), ('Prateek Agarwal', 1), ('Alexandria Ahluwalia', 1), ('Orkhan Asgarov', 1), ('Jingwen Bai', 1), ('Runtong Cai', 1), ('Shuanglin Cao', 1), ('Jonathan Chan', 1), ('Eric Chang', 1), ('Rhys Chappell', 1), ('Jason Chau', 1), ('Muyi Chen', 1), ('Wei Chen', 1), ('Xiaoyu Chen', 1), ('Ricky Curry', 1), ('Simarbir Singh Dhaliwal', 1), ('Jason Doo', 1), ('Shiqi Fan', 1), ('Fan Feng', 1), ('Jiang Feng', 1), ('Peter Feng', 1), ('Michael Gelbart', 1), ('Alireza Ghaseminejad', 1), ('Jasmin Goh', 1), ('Sicong He', 1), ('Elijah Ho', 1), ('Matthew Ho', 1), ('Sahand Hosseini', 1), ('Michael Hou', 1), ('Nicholas Hu', 1), ('Irene Huynh', 1), ('Han Jiang', 1), ('Zhe Jiang', 1), ('Asana Khajavi', 1), ('Dhira Khewsubtrakool', 1), ('Essence Lai', 1), ('Winston Lam', 1), ('Nicholas Larsen', 1), ('Morgan Law', 1), ('Matthieu Lepur', 1), ('Cloris Li', 1), ('Daniel Li', 1), ('Philip Li', 1), ('Xiaojie Li', 1), ('Colen Liu', 1), ('Shadong Liu', 1), ('Winston Liu', 1), ('Eric Lusk-Jopson', 1), ('Josh MacEachern', 1), ('Sam McConnell', 1), ('Amelia Milne', 1), ('Jake Moh', 1), ('Kellin Murphy', 1), ('Sarah Ng', 1), ('Harsh Patel', 1), ('Justin Reiher', 1), ('Frederic Renken', 1), ('Sheetal Shajan', 1), ('Haonan Shi', 1), ('Spark Sun', 1), ('Harry Tao', 1), ('Meny Ting', 1), ('Khanh Linh Tran', 1), ('Shiying Tu', 1), ('Gabriel Uribe', 1), ('Hao Wang', 1), ('Tiger Wang', 1), ('Wendy Wang', 1), ('James Ward', 1), ('Isaiah Wijaya', 1), ('Quincy Wong', 1), ('Lily Xia', 1), ('Lincoln Xiao', 1), ('Yiwen Xu', 1), ('Mengjunhong Yao', 1), ('Pearson Yao', 1), ('Anthony Yeung', 1), ('Yuanjie Zhao', 1), ('Logan Zheng', 1), ('Tiantai Zhou', 1), ('Yufei Zhou', 1), ('Kevin Zhu', 1), ('Yisheng Zhu', 1), ('Marvin Agonos', 1), ('Naeema Al-Mridha', 1), ('Tiara Allidina', 1), ('Rithvik Alluri', 1), ('Claire Anderson', 1), ('Regina Arcilla', 1), ('Seb Ban', 1), ('Prithu Banerjee', 1), ('Sahil Bansal', 1), ('Breyanne Bautista', 1), ('Coulter Beeson', 1), ('Shannon Benson', 1), ('Cristian Brazales Molina', 1), ('Claude Bu', 1), ('Matthew Cam', 1), ('Yichen Cao', 1), ('Amelia Casciola', 1), ('Robyn Castro', 1), ('Alex Champagne', 1), ('Raphael Chang Menoni', 1), ('Jeffrey Chang', 1), ('Benson Chen', 1), ('Janet Chen', 1), ('Rex Chen', 1), ('Susan Chen', 1), ('Terence Chen', 1), ('Jordan Cheng', 1), ('Pengyu Cheng', 1), ('Timothy Cheng', 1), ('Adle Chiam Chiam', 1), ('Justin Chiasson', 1), ('Arnold Choa', 1), ('Joochan Choi', 1), ('Lydia Choi', 1), ('William Choi', 1), ('Chantal Chung', 1), ('Janie Chung', 1), ('Mary Chung', 1), ('SETAREH COHAN', 1), ('Adam Collins', 1), ('Anne Condon', 1), ('Dama Correch', 1), ('Bronwyn Damm', 1), ('Kelly Dang', 1), ('Rachit Dangayach', 1), ('Mark Davidson', 1), ('Yue Deng', 1), ('Anas Desouky', 1), ('Sheng Di', 1), ('William Dougall', 1), ('Artun Duman', 1), ('Karim Eldegwy', 1), ('Bebo Elhosary', 1), ('Dan Estrin', 1), ('Vera Fan', 1), ('Noah Finkielsztein', 1), ('Emily Fong', 1), ('Joao Freitas', 1), ('Darren Fu', 1), ('Mikayla Gairns', 1), ('Shinya Gao', 1), ('Ya Gao', 1), ('Hannah Generoso', 1), ('Katherine Germano De Aquino Lima', 1), ('Harpaul Gill', 1), ('Sam Goldwax', 1), ('Emily Gong', 1), ('Shreeshaa Goyal', 1), ('Anders Grasdal', 1), ('Mario Grebelski', 1), ('Shri Grover', 1), ('William Gu', 1), ('Nishat Gupta', 1), ('Ali Haghani', 1), ('Huili Han', 1), ('Akshay Handa', 1), ('Quinn Hanson', 1), ('Steven Harlos', 1), ('Amelia He', 1), ('Yizhuo He', 1), ('Dillon Higa', 1), ('Kevin Ho', 1), ('Brian Hong', 1), ('Sakib Hossain', 1), ('Jacob Hotz', 1), ('Chongqing Hou', 1), ('Kipp Hsieh', 1), ('Chenming Hu', 1), ('Grace Hu', 1), ('Sylvia Hu', 1), ('David Huang', 1), ('Jacqueline Huang', 1), ('KuanMin Huang', 1), ('Cameron Huynh', 1), ('Derin Ibikunle', 1), ('Akshat Jain', 1), ('Yaash Jain', 1), ('Anthony Jakob', 1), ('Nishad Jamaldeen', 1), ('Jamie Jeon', 1), ('Emily Jia', 1), ('Ruonan Jia', 1), ('Yuncheng Jia', 1), ('Kyle Jiang', 1), ('Ziyang Jin', 1), ('Dianna Kan', 1), ('Saif Khan', 1), ('Aman Khinda', 1), ('Jun Kim', 1), ('Jillian Kong', 1), ('Eugenie Lai', 1), ('Yongxin Lai', 1), ('Jian Lan', 1), ('Melody Lan', 1), ('Eishan Lawrence', 1), ('Charmaine Lee', 1), ('Daniel Lee', 1), ('Kevin Lee', 1), ('Peter Lee', 1), ('Seungyup Lee', 1), ('Anthony Li', 1), ('David Li', 1), ('Jiayi Li', 1), ('Mingyang Li', 1), ('Ricky Li', 1), ('Songyang Li', 1), ('Tony Li', 1), ('Yvonne Li', 1), ('Zhe Li', 1), ('David Liang', 1), ('Cindy Lim', 1), ('William Lim', 1), ('Stanford Lin', 1), ('David Liu', 1), ('Eric Liu', 1), ('Ever Liu', 1), ('Jierui Liu', 1), ('Jordan Liu', 1), ('Michael Liu', 1), ('Monica Liu', 1), ('Vandy Liu', 1), ('Bryan Lo', 1), ('Weixi Long', 1), ('Dylan Lu', 1), ('Kaiming LU', 1), ('Eric Ma', 1), ('Marco Ma', 1), ('Jennifer MacFarlane', 1), ('Andrea Magbanua', 1), ('Aya Makhambetova', 1), ('Yi Ang Mao', 1), ('Tim Matsumoto', 1), ('Giulia Mattia', 1), ('Natasha Mattson', 1), ('Sahil Mazmudar', 1), ('Morgan Mo', 1), ('Ali Mohamed', 1), ('Cormac Mollitor', 1), ('Haseenah Molumo', 1), ('Tyler Moore', 1), ('Conor Morrison', 1), ('Nikki Motevaselolhagh', 1), ('Manlam Mou', 1), ('Daryn Mulholland', 1), ('GURVEER KAUR NA', 1), ('Hanae Nakajima', 1), ('Emma Nakamoto', 1), ('Chris Ng', 1), ('Philip Ng', 1), ('Natalie Ngan', 1), ('Kevin Nguyen', 1), ('Charlene Nicer', 1), ('Edmund Oh', 1), ('Ryan Oh', 1), ('Samuel Or', 1), ('Ryan Pattyson', 1), ('Jose Carlos Pazos', 1), ('Emre Pekel', 1), ('Egor Peshkov', 1), ('Umut Polat', 1), ('Alex Ponomarov', 1), ('Caelin Preston', 1), ('Rodrigo Proen¿a', 1), ('Amy Promhouse', 1), ('Koby Qu', 1), ('Karn Rahal', 1), ('Ramon Rakow', 1), ('Josh Rayo', 1), ('Michael Ruby', 1), ('Laura Ruiz', 1), ('Erik Ryhorchuk', 1), ('Fawaz Saleem', 1), ('Omar Salem', 1), ('Kiavash Samadi', 1), ('Leann Santa Cruz', 1), ('Asia Schmok', 1), ('Corwin Shanner', 1), ('Mitchel Sharko', 1), ('Betty Shea', 1), ('Jacky Sio', 1), ('Anastasiya Sokha', 1), ('Christopher Song', 1), ('Gautam Soni', 1), ('Simeon Stakic', 1), ('Tyler Steele', 1), ('Jie Su', 1), ('YUAN SUN', 1), ('Lirukshman Sundaralingam', 1), ('Serge Sych', 1), ('Aiden Synkova', 1), ('FIGALI TAHO', 1), ('Shushama Tahsin', 1), ('Derek Tam', 1), ('Jobina Tamminga', 1), ('Andrea Tang', 1), ('Kyo Tang', 1), ('Tiffany Tang', 1), ('Kshitiz Tanwar', 1), ('Justin Tao', 1), ('Gorn Teptada', 1), ('David Thomas', 1), ('Angela Tian', 1), ('Geoffrey Tien', 1), ('Brian Trieu', 1), ('Shiv Vashisht', 1), ('Jason Wang', 1), ('Jia Bin Wang', 1), ('John Wang', 1), ('Rui Wang', 1), ('Sari Wang', 1), ('WAN SHING MARTIN WANG', 1), ('Wumian Wang', 1), ('Yuyang Wei', 1), ('Ella Wilson', 1), ('Michelle Wong', 1), ('Raymond Wong', 1), ('Stephanie Wong', 1), ('Trevin Wong', 1), ('Andy Worth', 1), ('Ashley-Gail Wright', 1), ('TJ Wu', 1), ('Victor Wu', 1), ('Yiyun Xi', 1), ('Robin Xie', 1), ('Kevin Xu', 1), ('Yuan Xu', 1), ('Sheena Yadav', 1), ('Sam Yan', 1), ('Minghao Yang', 1), ('Xiaoan Yang', 1), ('Xinyue Yang', 1), ('Amy Yao', 1), ('Harry Yao', 1), ('Kevin Yap', 1), ('Violet Ye', 1), ('Albert Yip', 1), ('Ruixuan Yu', 1), ('Henry Zeng', 1), ('Alice Zhang', 1), ('Cindy Zhang', 1), ('Fred Zhang', 1), ('James Zhang', 1), ('John Zhang', 1), ('Shuaiqi Zhang', 1), ('Darming Zhao', 1), ('MengXin Zhao', 1), ('Cherry Zheng', 1), ('Jacky Zheng', 1), ('Lydia Zheng', 1), ('Zikang Zheng', 1), ('Julia Zhu', 1), ('Scoward Zhu', 1), ('Steven Zhu', 1), ('Tianyan Zhu', 1), ('Youcheng Zhu', 1), ('Kevin Zou', 1), ('Xiaoyu Zou', 1), ('Andrew Zulaybar', 1), ('FARZAD ABDOLHOSSEINI', 1), ('MARJAN ALBOOYEH', 1), ('Jose Arevalo', 1), ('Bruno Bachmann', 1), ('Maria del Mar Bazua Lobato', 1), ('William Beltran', 1), ('Alexander Bergholm', 1), ('Fengyi Bian', 1), ('Neema Boutorabi', 1), ('Joanne Chan', 1), ('Achintya Chandwani', 1), ('Pritpal Chauhan', 1), ('Malcolm Chen', 1), ('Shevonne Cheung', 1), ('Jim Chiang', 1), ('Jordan Chiu', 1), ('Jae Sam Choi', 1), ('Harlan Colclough', 1), ('Cowan Cumming', 1), ('Taylor Curran', 1), ('Ben Daly-Grafstein', 1), ('FARHAD DASHTI ARDAKANI', 1), ('Jeffrey Dawson', 1), ('Jack Ding', 1), ('Jeffrey Doyle', 1), ('Chi Duong', 1), ('Asma Enayet', 1), ('Michael Englo', 1), ('Logan Ennis', 1), ('Ryan Fayyazi', 1), ('Ming Gao', 1), ('Andrew Gourley', 1), ('Kiara Grant', 1), ('Shuhan Guo', 1), ('Siddhartha Gupta', 1), ('Gregory Gzik', 1), ('Cailean Harris', 1), ('Frederic Alexandre Hayek', 1), ('Lizzie Hnatiuk', 1), ('Nathan Holmes', 1), ('Jieming Hou', 1), ('Jingyuan Hu', 1), ('Adam Hynek', 1), ('Peter Hyun', 1), ('Esther Inlayo', 1), ('Susmit Japhalekar', 1), ('Jagjot Jhajj', 1), ('Sammie Jiang', 1), ('Alex Jordache', 1), ('Tanha Kabir', 1), ('Raj Kambo', 1), ('Fili Kilibarda', 1), ('David Kim', 1), ('David Kim Kim', 1), ('Nam Hee Kim', 1), ('Ryan Knauer', 1), ('Tony Kong', 1), ('Ranky Lau', 1), ('JONATHAN LAVINGTON', 1), ('Ryan Lazib', 1), ('John Lee', 1), ('Michelle Lee', 1), ('Soojin Lee', 1), ('Daniel Levy', 1), ('Ada Li', 1), ('Leo Lin', 1), ('Andy Liu', 1), ('Ellen Liu', 1), ('Jason Liu', 1), ('Stephanie Liu', 1), ('Alan Long', 1), ('Victor Lu', 1), ('Max Ma', 1), ('Mathew MacDougall', 1), ('Si Yi Meng', 1), ('Tommi Muller', 1), ('Renaldo Murillo', 1), ('Gokberk Ozsoy', 1), ('Pahul Panesar', 1), ('Chrysen Park', 1), ('Minie Park', 1), ('Leif Pedersen', 1), ('Mark Pedersen', 1), ('Hossein Piri', 1), ('Hossein RAHIMI', 1), ('Pouya Rezaeinia', 1), ('Subihi Rixat', 1), ('Tanay Rohatgi', 1), ('Ishan Sahay', 1), ('Sina Saleh', 1), ('ERIC SANDERS', 1), ('Ash Sandhu', 1), ('AMBIKEYA SANGWAN', 1), ('Lise Savard', 1), ('Luke Schwalfenberg', 1), ('Shahriar Shayesteh', 1), ('Zhangyi Shentu', 1), ('Joe Simmons', 1), ('Megha Singhania', 1), ('Seiji Smith', 1), ('Olga Solodova', 1), ('Jonathan Steif', 1), ('Nanda Syahrasyad', 1), ('Kevin Tabouguia', 1), ('Anthony Tat', 1), ('Evangeline Tay', 1), ('Sukhvir Toor', 1), ('Amir Tootooni Mofrad', 1), ('Onur Tuna', 1), ('Sara Uppal', 1), ('Johnson Vu', 1), ('Ben Walker', 1), ('Abel Waller', 1), ('Bingyao Wang', 1), ('Jingrui Wang', 1), ('Kayci Wang', 1), ('Scott Wang', 1), ('Yanzhao Wang', 1), ('Yubo Wang', 1), ('Zitong Wang', 1), ('Frank Wood', 1), ('Jessica Wu', 1), ('Michael Xian', 1), ('Hanbo Yang', 1), ('Jessica Yang', 1), ('Matin Yarmand', 1), ('Jason Yoo', 1), ('Xueqi Zeng', 1), ('Amber Zhang', 1), ('Chao Zhang', 1), ('Haowei Zhang', 1), ('Helen Zhang', 1), ('Juexiao Zhang', 1), ('Michael Zhang', 1), ('Rui Zhang', 1), ('Tianyue Zhang', 1), ('Wenhong Zhang', 1), ('Yihao Zhang', 1), ('Lisa Zhao', 1), ('Karen Zhou', 1), ('Wenxin Zhou', 1), ('Zhong Zhuang', 1), ('Anton Zubchenko', 1)]\n"
     ]
    }
   ],
   "source": [
    "import collections\n",
    "\n",
    "# Now we want to count the occurrances of each name \n",
    "\n",
    "# First build a dict with values being the number of occurrances\n",
    "user_names_dict = collections.Counter(user_names) \n",
    "# Next cast into list of tuples\n",
    "user_names_lst = dict.items(user_names_dict)\n",
    "\n",
    "# sort the list of tuples using the second elt i.e. the number of occurrances\n",
    "share_rank = sorted(user_names_lst, key=lambda x: x[1], reverse=True)\n",
    "print(share_rank[1:10])\n",
    "print(share_rank)\n",
    "\n",
    "# as an example, we can just extract the top 10 people one shares the most courses with (0th place usually being oneself, thus omitted)\n",
    "share_rank_top = share_rank[1:10]"
   ]
  },
  {
   "cell_type": "code",
   "execution_count": 35,
   "metadata": {},
   "outputs": [
    {
     "data": {
      "image/png": "[encoded data removed]",
      "text/plain": [
       "<Figure size 1152x144 with 1 Axes>"
      ]
     },
     "metadata": {
      "needs_background": "light"
     },
     "output_type": "display_data"
    }
   ],
   "source": [
    "\n",
    "#use this ipython magic comamnd to display plots inline in the jupyter notebook\n",
    "%matplotlib inline\n",
    "\n",
    "import pandas as pd\n",
    "import matplotlib.pyplot as plt\n",
    "\n",
    "# this is used to fix a warning about future versions of pandas\n",
    "from pandas.plotting import register_matplotlib_converters\n",
    "register_matplotlib_converters()\n",
    "\n",
    "# plot the users and number of courses shared\n",
    "plt.figure(figsize=(16,2))\n",
    "plt.bar([i[0] for i in share_rank_top], [i[1] for i in share_rank_top])\n",
    "plt.title(\"Plot of number of courses you shared with others (top 9)\")\n",
    "plt.xlabel(\"User name\")\n",
    "plt.xticks(rotation=90)\n",
    "plt.ylabel(\"Total number of courses shared\")\n",
    "plt.show()"
   ]
  },
  {
   "cell_type": "code",
   "execution_count": null,
   "metadata": {},
   "outputs": [],
   "source": []
  }
 ],
 "metadata": {
  "kernelspec": {
   "display_name": "Python 3",
   "language": "python",
   "name": "python3"
  },
  "language_info": {
   "codemirror_mode": {
    "name": "ipython",
    "version": 3
   },
   "file_extension": ".py",
   "mimetype": "text/x-python",
   "name": "python",
   "nbconvert_exporter": "python",
   "pygments_lexer": "ipython3",
   "version": "3.6.8"
  }
 },
 "nbformat": 4,
 "nbformat_minor": 2
}
